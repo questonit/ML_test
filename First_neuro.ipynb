{
 "cells": [
  {
   "cell_type": "markdown",
   "id": "protective-minutes",
   "metadata": {},
   "source": [
    "Нейронная сеть состоит из двух входов(Вес, Рост), слоя из двух нейронов(h1, h2) и выходного нейрона o1. На основе данных о весе и росте нейронная сеть определяет пол: мужской - 1, женский - 0."
   ]
  },
  {
   "cell_type": "code",
   "execution_count": 1,
   "id": "sound-brunei",
   "metadata": {},
   "outputs": [],
   "source": [
    "import numpy as np"
   ]
  },
  {
   "cell_type": "markdown",
   "id": "prospective-salvation",
   "metadata": {},
   "source": [
    "Функция сигмоида для определения значения весов:"
   ]
  },
  {
   "cell_type": "code",
   "execution_count": 2,
   "id": "binary-major",
   "metadata": {},
   "outputs": [],
   "source": [
    "def sigmoid(x, der=False):\n",
    "    if der:\n",
    "        return x * (1-x)\n",
    "    return 1/ (1 + np.exp(-x))"
   ]
  },
  {
   "cell_type": "markdown",
   "id": "classified-malaysia",
   "metadata": {},
   "source": [
    "Входные и выходные данные для обучения:"
   ]
  },
  {
   "cell_type": "code",
   "execution_count": 3,
   "id": "sound-prospect",
   "metadata": {},
   "outputs": [],
   "source": [
    "x = np.array([\n",
    "    [40, 155],\n",
    "    [68, 175],\n",
    "    [66, 180],\n",
    "    [45, 160],\n",
    "    [38, 156],\n",
    "    [71, 172],\n",
    "])\n",
    "y = np.array([0, 1, 1, 0, 0, 1])"
   ]
  },
  {
   "cell_type": "markdown",
   "id": "inclusive-southeast",
   "metadata": {},
   "source": [
    "Приблизим входные данные к 0:"
   ]
  },
  {
   "cell_type": "code",
   "execution_count": 4,
   "id": "earlier-incident",
   "metadata": {},
   "outputs": [],
   "source": [
    "x0 = x.T[0]\n",
    "x0_av = round(x0.sum()/len(x0))\n",
    "x1 = x.T[1]\n",
    "x1_av = round(x1.sum()/len(x1))\n",
    "x_av = np.array([x0_av, x1_av])\n",
    "x -= x_av"
   ]
  },
  {
   "cell_type": "markdown",
   "id": "systematic-performance",
   "metadata": {},
   "source": [
    "Инициализация весов и смещений случайным образом:"
   ]
  },
  {
   "cell_type": "code",
   "execution_count": 5,
   "id": "creative-belize",
   "metadata": {
    "scrolled": true
   },
   "outputs": [],
   "source": [
    "# Слой h:\n",
    "weight_h =  np.random.random((2, 2))\n",
    "bias_h = np.random.random((2, 1))\n",
    "# Слой o:\n",
    "weight_o = np.random.random((1, 2))\n",
    "bias_o = np.random.random((1, 1))"
   ]
  },
  {
   "cell_type": "markdown",
   "id": "knowing-rogers",
   "metadata": {},
   "source": [
    "Функция подсчета ошибки:"
   ]
  },
  {
   "cell_type": "code",
   "execution_count": 6,
   "id": "adequate-electric",
   "metadata": {},
   "outputs": [],
   "source": [
    "def mse_loss(y_true, y_pred):\n",
    "    return ((y_true - y_pred) ** 2).mean()"
   ]
  },
  {
   "cell_type": "markdown",
   "id": "proud-mainstream",
   "metadata": {},
   "source": [
    "Функция предсказания:"
   ]
  },
  {
   "cell_type": "code",
   "execution_count": 7,
   "id": "sporting-damage",
   "metadata": {},
   "outputs": [],
   "source": [
    "def predict(x):\n",
    "    x = x.reshape(2,1)\n",
    "    h = sigmoid(np.dot(weight_h, x) + bias_h)\n",
    "    o = sigmoid(np.dot(weight_o, h) + bias_o)\n",
    "    return o"
   ]
  },
  {
   "cell_type": "markdown",
   "id": "aggressive-carrier",
   "metadata": {},
   "source": [
    "Зададим коэффициент скорости обучения и количество эпох:"
   ]
  },
  {
   "cell_type": "code",
   "execution_count": 8,
   "id": "useful-shannon",
   "metadata": {},
   "outputs": [],
   "source": [
    "learning_rate = 0.1\n",
    "epochs = 1000"
   ]
  },
  {
   "cell_type": "markdown",
   "id": "monetary-chamber",
   "metadata": {},
   "source": [
    "Само обучение:"
   ]
  },
  {
   "cell_type": "code",
   "execution_count": 9,
   "id": "horizontal-personal",
   "metadata": {},
   "outputs": [
    {
     "name": "stdout",
     "output_type": "stream",
     "text": [
      "Эпоха 0 Ошибка: 0.195\n",
      "Эпоха 10 Ошибка: 0.121\n",
      "Эпоха 20 Ошибка: 0.083\n",
      "Эпоха 30 Ошибка: 0.062\n",
      "Эпоха 40 Ошибка: 0.048\n",
      "Эпоха 50 Ошибка: 0.039\n",
      "Эпоха 60 Ошибка: 0.032\n",
      "Эпоха 70 Ошибка: 0.028\n",
      "Эпоха 80 Ошибка: 0.024\n",
      "Эпоха 90 Ошибка: 0.021\n",
      "Эпоха 100 Ошибка: 0.019\n",
      "Эпоха 110 Ошибка: 0.017\n",
      "Эпоха 120 Ошибка: 0.015\n",
      "Эпоха 130 Ошибка: 0.014\n",
      "Эпоха 140 Ошибка: 0.013\n",
      "Эпоха 150 Ошибка: 0.012\n",
      "Эпоха 160 Ошибка: 0.011\n",
      "Эпоха 170 Ошибка: 0.010\n",
      "Эпоха 180 Ошибка: 0.010\n",
      "Эпоха 190 Ошибка: 0.009\n",
      "Эпоха 200 Ошибка: 0.009\n",
      "Эпоха 210 Ошибка: 0.008\n",
      "Эпоха 220 Ошибка: 0.008\n",
      "Эпоха 230 Ошибка: 0.007\n",
      "Эпоха 240 Ошибка: 0.007\n",
      "Эпоха 250 Ошибка: 0.007\n",
      "Эпоха 260 Ошибка: 0.006\n",
      "Эпоха 270 Ошибка: 0.006\n",
      "Эпоха 280 Ошибка: 0.006\n",
      "Эпоха 290 Ошибка: 0.006\n",
      "Эпоха 300 Ошибка: 0.005\n",
      "Эпоха 310 Ошибка: 0.005\n",
      "Эпоха 320 Ошибка: 0.005\n",
      "Эпоха 330 Ошибка: 0.005\n",
      "Эпоха 340 Ошибка: 0.005\n",
      "Эпоха 350 Ошибка: 0.005\n",
      "Эпоха 360 Ошибка: 0.004\n",
      "Эпоха 370 Ошибка: 0.004\n",
      "Эпоха 380 Ошибка: 0.004\n",
      "Эпоха 390 Ошибка: 0.004\n",
      "Эпоха 400 Ошибка: 0.004\n",
      "Эпоха 410 Ошибка: 0.004\n",
      "Эпоха 420 Ошибка: 0.004\n",
      "Эпоха 430 Ошибка: 0.004\n",
      "Эпоха 440 Ошибка: 0.004\n",
      "Эпоха 450 Ошибка: 0.003\n",
      "Эпоха 460 Ошибка: 0.003\n",
      "Эпоха 470 Ошибка: 0.003\n",
      "Эпоха 480 Ошибка: 0.003\n",
      "Эпоха 490 Ошибка: 0.003\n",
      "Эпоха 500 Ошибка: 0.003\n",
      "Эпоха 510 Ошибка: 0.003\n",
      "Эпоха 520 Ошибка: 0.003\n",
      "Эпоха 530 Ошибка: 0.003\n",
      "Эпоха 540 Ошибка: 0.003\n",
      "Эпоха 550 Ошибка: 0.003\n",
      "Эпоха 560 Ошибка: 0.003\n",
      "Эпоха 570 Ошибка: 0.003\n",
      "Эпоха 580 Ошибка: 0.003\n",
      "Эпоха 590 Ошибка: 0.003\n",
      "Эпоха 600 Ошибка: 0.003\n",
      "Эпоха 610 Ошибка: 0.002\n",
      "Эпоха 620 Ошибка: 0.002\n",
      "Эпоха 630 Ошибка: 0.002\n",
      "Эпоха 640 Ошибка: 0.002\n",
      "Эпоха 650 Ошибка: 0.002\n",
      "Эпоха 660 Ошибка: 0.002\n",
      "Эпоха 670 Ошибка: 0.002\n",
      "Эпоха 680 Ошибка: 0.002\n",
      "Эпоха 690 Ошибка: 0.002\n",
      "Эпоха 700 Ошибка: 0.002\n",
      "Эпоха 710 Ошибка: 0.002\n",
      "Эпоха 720 Ошибка: 0.002\n",
      "Эпоха 730 Ошибка: 0.002\n",
      "Эпоха 740 Ошибка: 0.002\n",
      "Эпоха 750 Ошибка: 0.002\n",
      "Эпоха 760 Ошибка: 0.002\n",
      "Эпоха 770 Ошибка: 0.002\n",
      "Эпоха 780 Ошибка: 0.002\n",
      "Эпоха 790 Ошибка: 0.002\n",
      "Эпоха 800 Ошибка: 0.002\n",
      "Эпоха 810 Ошибка: 0.002\n",
      "Эпоха 820 Ошибка: 0.002\n",
      "Эпоха 830 Ошибка: 0.002\n",
      "Эпоха 840 Ошибка: 0.002\n",
      "Эпоха 850 Ошибка: 0.002\n",
      "Эпоха 860 Ошибка: 0.002\n",
      "Эпоха 870 Ошибка: 0.002\n",
      "Эпоха 880 Ошибка: 0.002\n",
      "Эпоха 890 Ошибка: 0.002\n",
      "Эпоха 900 Ошибка: 0.002\n",
      "Эпоха 910 Ошибка: 0.002\n",
      "Эпоха 920 Ошибка: 0.002\n",
      "Эпоха 930 Ошибка: 0.002\n",
      "Эпоха 940 Ошибка: 0.002\n",
      "Эпоха 950 Ошибка: 0.002\n",
      "Эпоха 960 Ошибка: 0.002\n",
      "Эпоха 970 Ошибка: 0.002\n",
      "Эпоха 980 Ошибка: 0.001\n",
      "Эпоха 990 Ошибка: 0.001\n"
     ]
    }
   ],
   "source": [
    "for epoch in range(epochs):\n",
    "    for x0, y0 in zip(x, y):\n",
    "        x0 = x0.reshape(2,1)\n",
    "        # Вычисляем значения нейронов:\n",
    "        h = sigmoid(np.dot(weight_h, x0) + bias_h)\n",
    "        o = sigmoid(np.dot(weight_o, h) + bias_o)\n",
    "        # Теперь вычислим ошибку обучения:\n",
    "        y_true = y0\n",
    "        y_pred = o\n",
    "        error_weight_o = (-2 * (y_true - y_pred)) * (h * sigmoid(o, True))\n",
    "        error_bias_o = (-2 * (y_true - y_pred)) * sigmoid(o, True) \n",
    "        error_weight_h = (-2 * (y_true - y_pred)) * (weight_o.reshape(2,1) * sigmoid(o, True)) * (np.row_stack((x0.T, x0.T)) * sigmoid(h, True))\n",
    "        error_bias_h = (-2 * (y_true - y_pred)) * (weight_o.reshape(2,1) * sigmoid(o, True)) * sigmoid(h, True)\n",
    "        # Обновим веса:\n",
    "        weight_h -= learning_rate * error_weight_h.T\n",
    "        bias_h -= learning_rate * error_bias_h\n",
    "        weight_o -= learning_rate * error_weight_o.T\n",
    "        bias_o -= learning_rate * error_bias_o.T\n",
    "    if epoch % 10 == 0:\n",
    "        y_preds = np.apply_along_axis(predict, 1, x).T\n",
    "        loss = mse_loss(y, y_preds)\n",
    "        print(\"Эпоха %d Ошибка: %.3f\" % (epoch, loss))"
   ]
  },
  {
   "cell_type": "code",
   "execution_count": 34,
   "id": "disturbed-electron",
   "metadata": {},
   "outputs": [
    {
     "name": "stdout",
     "output_type": "stream",
     "text": [
      "[[0.96900609]]\n",
      "[[0.0442598]]\n"
     ]
    }
   ],
   "source": [
    "x_m = np.array([72, 183]) # Мужчина\n",
    "x_m -= x_av\n",
    "x_f = np.array([40, 160]) # Женщина\n",
    "x_f -= x_av\n",
    "print(predict(x_m))\n",
    "print(predict(x_f))"
   ]
  }
 ],
 "metadata": {
  "kernelspec": {
   "display_name": "Python 3",
   "language": "python",
   "name": "python3"
  },
  "language_info": {
   "codemirror_mode": {
    "name": "ipython",
    "version": 3
   },
   "file_extension": ".py",
   "mimetype": "text/x-python",
   "name": "python",
   "nbconvert_exporter": "python",
   "pygments_lexer": "ipython3",
   "version": "3.9.0"
  }
 },
 "nbformat": 4,
 "nbformat_minor": 5
}
